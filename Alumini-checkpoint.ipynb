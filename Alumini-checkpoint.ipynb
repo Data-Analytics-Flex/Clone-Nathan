{
 "cells": [
  {
   "cell_type": "code",
   "execution_count": 1,
   "id": "4ddea088-c3f4-49fb-a6d9-e67267863719",
   "metadata": {},
   "outputs": [],
   "source": [
    "import numpy as np\n",
    "import pandas as pd"
   ]
  },
  {
   "cell_type": "code",
   "execution_count": 2,
   "id": "dd4f3e44-54a8-4d68-b28e-adb649f9747e",
   "metadata": {},
   "outputs": [],
   "source": [
    "data= pd.read_csv(r\"C:\\Users\\Admin\\Desktop\\14-12-24\\alumni.csv\")"
   ]
  },
  {
   "cell_type": "code",
   "execution_count": 3,
   "id": "e3d050b4-b58c-4dc5-a283-73b162ecbd89",
   "metadata": {},
   "outputs": [
    {
     "data": {
      "text/html": [
       "<div>\n",
       "<style scoped>\n",
       "    .dataframe tbody tr th:only-of-type {\n",
       "        vertical-align: middle;\n",
       "    }\n",
       "\n",
       "    .dataframe tbody tr th {\n",
       "        vertical-align: top;\n",
       "    }\n",
       "\n",
       "    .dataframe thead th {\n",
       "        text-align: right;\n",
       "    }\n",
       "</style>\n",
       "<table border=\"1\" class=\"dataframe\">\n",
       "  <thead>\n",
       "    <tr style=\"text-align: right;\">\n",
       "      <th></th>\n",
       "      <th>Year Graduated</th>\n",
       "      <th>Gender</th>\n",
       "      <th>Marital Status</th>\n",
       "      <th>Diploma Type</th>\n",
       "      <th>Defaulted</th>\n",
       "      <th>Salary</th>\n",
       "      <th>Fee</th>\n",
       "      <th>Savings ($)</th>\n",
       "    </tr>\n",
       "  </thead>\n",
       "  <tbody>\n",
       "    <tr>\n",
       "      <th>0</th>\n",
       "      <td>2004</td>\n",
       "      <td>Male</td>\n",
       "      <td>Single</td>\n",
       "      <td>Standard Diploma</td>\n",
       "      <td>Yes</td>\n",
       "      <td>125000</td>\n",
       "      <td>10869</td>\n",
       "      <td>$86,000</td>\n",
       "    </tr>\n",
       "    <tr>\n",
       "      <th>1</th>\n",
       "      <td>2005</td>\n",
       "      <td>Male</td>\n",
       "      <td>Married</td>\n",
       "      <td>College Prep Diploma</td>\n",
       "      <td>No</td>\n",
       "      <td>100000</td>\n",
       "      <td>10869</td>\n",
       "      <td>$116,000</td>\n",
       "    </tr>\n",
       "    <tr>\n",
       "      <th>2</th>\n",
       "      <td>2006</td>\n",
       "      <td>Female</td>\n",
       "      <td>Single</td>\n",
       "      <td>Standard Diploma</td>\n",
       "      <td>Yes</td>\n",
       "      <td>70000</td>\n",
       "      <td>10869</td>\n",
       "      <td>$52,000</td>\n",
       "    </tr>\n",
       "    <tr>\n",
       "      <th>3</th>\n",
       "      <td>2007</td>\n",
       "      <td>Male</td>\n",
       "      <td>Married</td>\n",
       "      <td>Standard Diploma</td>\n",
       "      <td>No</td>\n",
       "      <td>120000</td>\n",
       "      <td>10869</td>\n",
       "      <td>$76,000</td>\n",
       "    </tr>\n",
       "    <tr>\n",
       "      <th>4</th>\n",
       "      <td>2006</td>\n",
       "      <td>Female</td>\n",
       "      <td>Divorced</td>\n",
       "      <td>Standard Diploma</td>\n",
       "      <td>Yes</td>\n",
       "      <td>95000</td>\n",
       "      <td>11948</td>\n",
       "      <td>$52,000</td>\n",
       "    </tr>\n",
       "  </tbody>\n",
       "</table>\n",
       "</div>"
      ],
      "text/plain": [
       "   Year Graduated  Gender Marital Status          Diploma Type Defaulted  \\\n",
       "0            2004    Male         Single      Standard Diploma       Yes   \n",
       "1            2005    Male        Married  College Prep Diploma        No   \n",
       "2            2006  Female         Single      Standard Diploma       Yes   \n",
       "3            2007    Male        Married      Standard Diploma        No   \n",
       "4            2006  Female       Divorced      Standard Diploma       Yes   \n",
       "\n",
       "   Salary    Fee Savings ($)  \n",
       "0  125000  10869     $86,000  \n",
       "1  100000  10869    $116,000  \n",
       "2   70000  10869     $52,000  \n",
       "3  120000  10869     $76,000  \n",
       "4   95000  11948     $52,000  "
      ]
     },
     "execution_count": 3,
     "metadata": {},
     "output_type": "execute_result"
    }
   ],
   "source": [
    "data.head()"
   ]
  },
  {
   "cell_type": "code",
   "execution_count": 4,
   "id": "310e6a4b-dcdb-40ff-9703-b9749b869add",
   "metadata": {},
   "outputs": [
    {
     "name": "stdout",
     "output_type": "stream",
     "text": [
      "Year Graduated    0\n",
      "Gender            0\n",
      "Marital Status    0\n",
      "Diploma Type      0\n",
      "Defaulted         0\n",
      "Salary            0\n",
      "Fee               0\n",
      "Savings ($)       0\n",
      "dtype: int64\n"
     ]
    }
   ],
   "source": [
    "print(data.isnull().sum())"
   ]
  },
  {
   "cell_type": "code",
   "execution_count": 5,
   "id": "ca926fbd-b6da-4e20-89d4-c76cbabf237d",
   "metadata": {},
   "outputs": [],
   "source": [
    "#There is no null value in the data set"
   ]
  },
  {
   "cell_type": "code",
   "execution_count": 9,
   "id": "4be3849b-3477-4201-8fc8-d1b4cecb1010",
   "metadata": {},
   "outputs": [
    {
     "name": "stdout",
     "output_type": "stream",
     "text": [
      "<class 'pandas.core.frame.DataFrame'>\n",
      "RangeIndex: 88 entries, 0 to 87\n",
      "Data columns (total 8 columns):\n",
      " #   Column          Non-Null Count  Dtype \n",
      "---  ------          --------------  ----- \n",
      " 0   Year Graduated  88 non-null     int64 \n",
      " 1   Gender          88 non-null     object\n",
      " 2   Marital Status  88 non-null     object\n",
      " 3   Diploma Type    88 non-null     object\n",
      " 4   Defaulted       88 non-null     object\n",
      " 5   Salary          88 non-null     int64 \n",
      " 6   Fee             88 non-null     int64 \n",
      " 7   Savings ($)     88 non-null     object\n",
      "dtypes: int64(3), object(5)\n",
      "memory usage: 5.6+ KB\n"
     ]
    }
   ],
   "source": [
    "data.info()"
   ]
  },
  {
   "cell_type": "code",
   "execution_count": 12,
   "id": "fb3ebaac-a330-4ea0-b405-25ca158f0a4c",
   "metadata": {},
   "outputs": [],
   "source": [
    "#Gender, Marital status, Diploma type, Defauted and savings are object type data set\n",
    "#Saving is int data so we need to change the data type of column savings"
   ]
  },
  {
   "cell_type": "code",
   "execution_count": 14,
   "id": "ff8c212b-0fcf-4227-8685-ee78ace6f60a",
   "metadata": {},
   "outputs": [],
   "source": [
    "data['Savings ($)'] = data['Savings ($)'].str.replace(',', '').str.replace('$', '').astype(int)"
   ]
  },
  {
   "cell_type": "code",
   "execution_count": 15,
   "id": "6228d5c7-64ba-4ce4-8145-856aa3f9bf11",
   "metadata": {},
   "outputs": [
    {
     "name": "stdout",
     "output_type": "stream",
     "text": [
      "<class 'pandas.core.frame.DataFrame'>\n",
      "RangeIndex: 88 entries, 0 to 87\n",
      "Data columns (total 8 columns):\n",
      " #   Column          Non-Null Count  Dtype \n",
      "---  ------          --------------  ----- \n",
      " 0   Year Graduated  88 non-null     int64 \n",
      " 1   Gender          88 non-null     object\n",
      " 2   Marital Status  88 non-null     object\n",
      " 3   Diploma Type    88 non-null     object\n",
      " 4   Defaulted       88 non-null     object\n",
      " 5   Salary          88 non-null     int64 \n",
      " 6   Fee             88 non-null     int64 \n",
      " 7   Savings ($)     88 non-null     int32 \n",
      "dtypes: int32(1), int64(3), object(4)\n",
      "memory usage: 5.3+ KB\n"
     ]
    }
   ],
   "source": [
    "data.info()"
   ]
  },
  {
   "cell_type": "code",
   "execution_count": 16,
   "id": "5834d4fe-1e00-4235-85fd-47f848961328",
   "metadata": {},
   "outputs": [
    {
     "data": {
      "text/html": [
       "<div>\n",
       "<style scoped>\n",
       "    .dataframe tbody tr th:only-of-type {\n",
       "        vertical-align: middle;\n",
       "    }\n",
       "\n",
       "    .dataframe tbody tr th {\n",
       "        vertical-align: top;\n",
       "    }\n",
       "\n",
       "    .dataframe thead th {\n",
       "        text-align: right;\n",
       "    }\n",
       "</style>\n",
       "<table border=\"1\" class=\"dataframe\">\n",
       "  <thead>\n",
       "    <tr style=\"text-align: right;\">\n",
       "      <th></th>\n",
       "      <th>Year Graduated</th>\n",
       "      <th>Salary</th>\n",
       "      <th>Fee</th>\n",
       "      <th>Savings ($)</th>\n",
       "    </tr>\n",
       "  </thead>\n",
       "  <tbody>\n",
       "    <tr>\n",
       "      <th>count</th>\n",
       "      <td>88.000000</td>\n",
       "      <td>88.000000</td>\n",
       "      <td>88.000000</td>\n",
       "      <td>88.000000</td>\n",
       "    </tr>\n",
       "    <tr>\n",
       "      <th>mean</th>\n",
       "      <td>2006.477273</td>\n",
       "      <td>84090.909091</td>\n",
       "      <td>11708.727273</td>\n",
       "      <td>47954.545455</td>\n",
       "    </tr>\n",
       "    <tr>\n",
       "      <th>std</th>\n",
       "      <td>1.560852</td>\n",
       "      <td>21234.128008</td>\n",
       "      <td>1110.647949</td>\n",
       "      <td>28324.437721</td>\n",
       "    </tr>\n",
       "    <tr>\n",
       "      <th>min</th>\n",
       "      <td>2004.000000</td>\n",
       "      <td>35000.000000</td>\n",
       "      <td>10869.000000</td>\n",
       "      <td>6000.000000</td>\n",
       "    </tr>\n",
       "    <tr>\n",
       "      <th>25%</th>\n",
       "      <td>2005.000000</td>\n",
       "      <td>75000.000000</td>\n",
       "      <td>10968.000000</td>\n",
       "      <td>30000.000000</td>\n",
       "    </tr>\n",
       "    <tr>\n",
       "      <th>50%</th>\n",
       "      <td>2006.500000</td>\n",
       "      <td>75000.000000</td>\n",
       "      <td>11696.000000</td>\n",
       "      <td>46000.000000</td>\n",
       "    </tr>\n",
       "    <tr>\n",
       "      <th>75%</th>\n",
       "      <td>2008.000000</td>\n",
       "      <td>90000.000000</td>\n",
       "      <td>12058.250000</td>\n",
       "      <td>67000.000000</td>\n",
       "    </tr>\n",
       "    <tr>\n",
       "      <th>max</th>\n",
       "      <td>2009.000000</td>\n",
       "      <td>160000.000000</td>\n",
       "      <td>20960.000000</td>\n",
       "      <td>146000.000000</td>\n",
       "    </tr>\n",
       "  </tbody>\n",
       "</table>\n",
       "</div>"
      ],
      "text/plain": [
       "       Year Graduated         Salary           Fee    Savings ($)\n",
       "count       88.000000      88.000000     88.000000      88.000000\n",
       "mean      2006.477273   84090.909091  11708.727273   47954.545455\n",
       "std          1.560852   21234.128008   1110.647949   28324.437721\n",
       "min       2004.000000   35000.000000  10869.000000    6000.000000\n",
       "25%       2005.000000   75000.000000  10968.000000   30000.000000\n",
       "50%       2006.500000   75000.000000  11696.000000   46000.000000\n",
       "75%       2008.000000   90000.000000  12058.250000   67000.000000\n",
       "max       2009.000000  160000.000000  20960.000000  146000.000000"
      ]
     },
     "execution_count": 16,
     "metadata": {},
     "output_type": "execute_result"
    }
   ],
   "source": [
    "data.describe()"
   ]
  },
  {
   "cell_type": "code",
   "execution_count": 17,
   "id": "2b518644-6913-4ec3-b5d1-b11c98103cee",
   "metadata": {},
   "outputs": [],
   "source": [
    "#The summary statistics for the aluminin data"
   ]
  },
  {
   "cell_type": "code",
   "execution_count": 25,
   "id": "5db50561-4f84-4708-b482-94327e52c2cf",
   "metadata": {},
   "outputs": [
    {
     "name": "stdout",
     "output_type": "stream",
     "text": [
      "\n",
      "Alumni earning above $110000:\n",
      "    Year Graduated Gender Marital Status          Diploma Type Defaulted  \\\n",
      "0             2004   Male         Single      Standard Diploma       Yes   \n",
      "3             2007   Male        Married      Standard Diploma        No   \n",
      "6             2006   Male       Divorced      Standard Diploma        No   \n",
      "18            2006   Male        Married      Standard Diploma        No   \n",
      "31            2006   Male        Married      Standard Diploma       Yes   \n",
      "43            2008   Male        Married  College Prep Diploma        No   \n",
      "\n",
      "    Salary    Fee  Savings ($)  \n",
      "0   125000  10869        86000  \n",
      "3   120000  10869        76000  \n",
      "6   160000  11724       120000  \n",
      "18  140000  20960        72000  \n",
      "31  120000  10962        60000  \n",
      "43  160000  11693        62000  \n"
     ]
    }
   ],
   "source": [
    "high_earners = data[data['Salary'] > 110000]\n",
    "print(\"\\nAlumni earning above $110000:\")\n",
    "print(high_earners)"
   ]
  },
  {
   "cell_type": "code",
   "execution_count": 28,
   "id": "9a146e12-e057-4b0c-8a35-45626fa735ff",
   "metadata": {},
   "outputs": [
    {
     "name": "stdout",
     "output_type": "stream",
     "text": [
      "\n",
      "Alumni sorted by savings (descending):\n",
      "    Year Graduated  Gender Marital Status          Diploma Type Defaulted  \\\n",
      "24            2007  Female       Divorced      Standard Diploma        No   \n",
      "6             2006    Male       Divorced      Standard Diploma        No   \n",
      "12            2007    Male         Single      Standard Diploma       Yes   \n",
      "1             2005    Male        Married  College Prep Diploma        No   \n",
      "49            2004  Female        Married      Standard Diploma        No   \n",
      "\n",
      "    Salary    Fee  Savings ($)  \n",
      "24  110000  11691       146000  \n",
      "6   160000  11724       120000  \n",
      "12  110000  12717       120000  \n",
      "1   100000  10869       116000  \n",
      "49  110000  10966       103000  \n"
     ]
    }
   ],
   "source": [
    "sorted_savings = data.sort_values(by='Savings ($)', ascending=False)\n",
    "print(\"\\nAlumni sorted by savings (descending):\")\n",
    "print(sorted_savings.head())"
   ]
  },
  {
   "cell_type": "code",
   "execution_count": 30,
   "id": "a9fea7dd-9104-4c86-bcdd-8c9b24e567c1",
   "metadata": {},
   "outputs": [
    {
     "name": "stdout",
     "output_type": "stream",
     "text": [
      "\n",
      "Average salary by marital status:\n",
      "Marital Status\n",
      "Divorced    86052.631579\n",
      "Married     85571.428571\n",
      "Single      81470.588235\n",
      "Name: Salary, dtype: float64\n"
     ]
    }
   ],
   "source": [
    "average_salary_by_marital_status = data.groupby('Marital Status')['Salary'].mean()\n",
    "print(\"\\nAverage salary by marital status:\")\n",
    "print(average_salary_by_marital_status)"
   ]
  },
  {
   "cell_type": "code",
   "execution_count": null,
   "id": "3c9b0d9a-15a9-43dc-9a6e-144c9d73d012",
   "metadata": {},
   "outputs": [],
   "source": []
  }
 ],
 "metadata": {
  "kernelspec": {
   "display_name": "Python 3 (ipykernel)",
   "language": "python",
   "name": "python3"
  },
  "language_info": {
   "codemirror_mode": {
    "name": "ipython",
    "version": 3
   },
   "file_extension": ".py",
   "mimetype": "text/x-python",
   "name": "python",
   "nbconvert_exporter": "python",
   "pygments_lexer": "ipython3",
   "version": "3.11.7"
  }
 },
 "nbformat": 4,
 "nbformat_minor": 5
}
